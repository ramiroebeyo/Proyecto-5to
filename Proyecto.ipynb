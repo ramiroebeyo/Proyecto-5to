{
 "cells": [
  {
   "cell_type": "code",
   "execution_count": 4,
   "metadata": {},
   "outputs": [],
   "source": [
    "import pandas as pd\n",
    "import numpy as np\n",
    "from sklearn.model_selection import train_test_split\n",
    "from sklearn.preprocessing import StandardScaler\n",
    "import torch\n",
    "import torch.nn as nn\n",
    "import torch.optim as optim\n",
    "from torch.utils.data import DataLoader, TensorDataset\n"
   ]
  },
  {
   "cell_type": "markdown",
   "metadata": {},
   "source": [
    "# Preparing data"
   ]
  },
  {
   "cell_type": "markdown",
   "metadata": {},
   "source": [
    "Load the dataset"
   ]
  },
  {
   "cell_type": "code",
   "execution_count": 24,
   "metadata": {},
   "outputs": [
    {
     "data": {
      "text/html": [
       "<div>\n",
       "<style scoped>\n",
       "    .dataframe tbody tr th:only-of-type {\n",
       "        vertical-align: middle;\n",
       "    }\n",
       "\n",
       "    .dataframe tbody tr th {\n",
       "        vertical-align: top;\n",
       "    }\n",
       "\n",
       "    .dataframe thead th {\n",
       "        text-align: right;\n",
       "    }\n",
       "</style>\n",
       "<table border=\"1\" class=\"dataframe\">\n",
       "  <thead>\n",
       "    <tr style=\"text-align: right;\">\n",
       "      <th></th>\n",
       "      <th>temperature_2_m_above_gnd</th>\n",
       "      <th>relative_humidity_2_m_above_gnd</th>\n",
       "      <th>mean_sea_level_pressure_MSL</th>\n",
       "      <th>total_precipitation_sfc</th>\n",
       "      <th>snowfall_amount_sfc</th>\n",
       "      <th>total_cloud_cover_sfc</th>\n",
       "      <th>high_cloud_cover_high_cld_lay</th>\n",
       "      <th>medium_cloud_cover_mid_cld_lay</th>\n",
       "      <th>low_cloud_cover_low_cld_lay</th>\n",
       "      <th>shortwave_radiation_backwards_sfc</th>\n",
       "      <th>...</th>\n",
       "      <th>wind_direction_10_m_above_gnd</th>\n",
       "      <th>wind_speed_80_m_above_gnd</th>\n",
       "      <th>wind_direction_80_m_above_gnd</th>\n",
       "      <th>wind_speed_900_mb</th>\n",
       "      <th>wind_direction_900_mb</th>\n",
       "      <th>wind_gust_10_m_above_gnd</th>\n",
       "      <th>angle_of_incidence</th>\n",
       "      <th>zenith</th>\n",
       "      <th>azimuth</th>\n",
       "      <th>generated_power_kw</th>\n",
       "    </tr>\n",
       "  </thead>\n",
       "  <tbody>\n",
       "    <tr>\n",
       "      <th>0</th>\n",
       "      <td>2.17</td>\n",
       "      <td>31</td>\n",
       "      <td>1035.0</td>\n",
       "      <td>0.0</td>\n",
       "      <td>0.0</td>\n",
       "      <td>0.0</td>\n",
       "      <td>0</td>\n",
       "      <td>0</td>\n",
       "      <td>0</td>\n",
       "      <td>0.00</td>\n",
       "      <td>...</td>\n",
       "      <td>312.71</td>\n",
       "      <td>9.36</td>\n",
       "      <td>22.62</td>\n",
       "      <td>6.62</td>\n",
       "      <td>337.62</td>\n",
       "      <td>24.48</td>\n",
       "      <td>58.753108</td>\n",
       "      <td>83.237322</td>\n",
       "      <td>128.33543</td>\n",
       "      <td>454.100950</td>\n",
       "    </tr>\n",
       "    <tr>\n",
       "      <th>1</th>\n",
       "      <td>2.31</td>\n",
       "      <td>27</td>\n",
       "      <td>1035.1</td>\n",
       "      <td>0.0</td>\n",
       "      <td>0.0</td>\n",
       "      <td>0.0</td>\n",
       "      <td>0</td>\n",
       "      <td>0</td>\n",
       "      <td>0</td>\n",
       "      <td>1.78</td>\n",
       "      <td>...</td>\n",
       "      <td>294.78</td>\n",
       "      <td>5.99</td>\n",
       "      <td>32.74</td>\n",
       "      <td>4.61</td>\n",
       "      <td>321.34</td>\n",
       "      <td>21.96</td>\n",
       "      <td>45.408585</td>\n",
       "      <td>75.143041</td>\n",
       "      <td>139.65530</td>\n",
       "      <td>1411.999400</td>\n",
       "    </tr>\n",
       "    <tr>\n",
       "      <th>2</th>\n",
       "      <td>3.65</td>\n",
       "      <td>33</td>\n",
       "      <td>1035.4</td>\n",
       "      <td>0.0</td>\n",
       "      <td>0.0</td>\n",
       "      <td>0.0</td>\n",
       "      <td>0</td>\n",
       "      <td>0</td>\n",
       "      <td>0</td>\n",
       "      <td>108.58</td>\n",
       "      <td>...</td>\n",
       "      <td>270.00</td>\n",
       "      <td>3.89</td>\n",
       "      <td>56.31</td>\n",
       "      <td>3.76</td>\n",
       "      <td>286.70</td>\n",
       "      <td>14.04</td>\n",
       "      <td>32.848282</td>\n",
       "      <td>68.820648</td>\n",
       "      <td>152.53769</td>\n",
       "      <td>2214.849300</td>\n",
       "    </tr>\n",
       "    <tr>\n",
       "      <th>3</th>\n",
       "      <td>5.82</td>\n",
       "      <td>30</td>\n",
       "      <td>1035.4</td>\n",
       "      <td>0.0</td>\n",
       "      <td>0.0</td>\n",
       "      <td>0.0</td>\n",
       "      <td>0</td>\n",
       "      <td>0</td>\n",
       "      <td>0</td>\n",
       "      <td>258.10</td>\n",
       "      <td>...</td>\n",
       "      <td>323.13</td>\n",
       "      <td>3.55</td>\n",
       "      <td>23.96</td>\n",
       "      <td>3.08</td>\n",
       "      <td>339.44</td>\n",
       "      <td>19.80</td>\n",
       "      <td>22.699288</td>\n",
       "      <td>64.883536</td>\n",
       "      <td>166.90159</td>\n",
       "      <td>2527.609200</td>\n",
       "    </tr>\n",
       "    <tr>\n",
       "      <th>4</th>\n",
       "      <td>7.73</td>\n",
       "      <td>27</td>\n",
       "      <td>1034.4</td>\n",
       "      <td>0.0</td>\n",
       "      <td>0.0</td>\n",
       "      <td>0.0</td>\n",
       "      <td>0</td>\n",
       "      <td>0</td>\n",
       "      <td>0</td>\n",
       "      <td>375.58</td>\n",
       "      <td>...</td>\n",
       "      <td>10.01</td>\n",
       "      <td>6.76</td>\n",
       "      <td>25.20</td>\n",
       "      <td>6.62</td>\n",
       "      <td>22.38</td>\n",
       "      <td>16.56</td>\n",
       "      <td>19.199908</td>\n",
       "      <td>63.795208</td>\n",
       "      <td>182.13526</td>\n",
       "      <td>2640.203400</td>\n",
       "    </tr>\n",
       "    <tr>\n",
       "      <th>...</th>\n",
       "      <td>...</td>\n",
       "      <td>...</td>\n",
       "      <td>...</td>\n",
       "      <td>...</td>\n",
       "      <td>...</td>\n",
       "      <td>...</td>\n",
       "      <td>...</td>\n",
       "      <td>...</td>\n",
       "      <td>...</td>\n",
       "      <td>...</td>\n",
       "      <td>...</td>\n",
       "      <td>...</td>\n",
       "      <td>...</td>\n",
       "      <td>...</td>\n",
       "      <td>...</td>\n",
       "      <td>...</td>\n",
       "      <td>...</td>\n",
       "      <td>...</td>\n",
       "      <td>...</td>\n",
       "      <td>...</td>\n",
       "      <td>...</td>\n",
       "    </tr>\n",
       "    <tr>\n",
       "      <th>4208</th>\n",
       "      <td>8.69</td>\n",
       "      <td>66</td>\n",
       "      <td>1025.1</td>\n",
       "      <td>0.0</td>\n",
       "      <td>0.0</td>\n",
       "      <td>100.0</td>\n",
       "      <td>100</td>\n",
       "      <td>100</td>\n",
       "      <td>100</td>\n",
       "      <td>257.21</td>\n",
       "      <td>...</td>\n",
       "      <td>285.42</td>\n",
       "      <td>25.50</td>\n",
       "      <td>283.06</td>\n",
       "      <td>24.01</td>\n",
       "      <td>282.99</td>\n",
       "      <td>25.20</td>\n",
       "      <td>22.700907</td>\n",
       "      <td>64.952098</td>\n",
       "      <td>167.06794</td>\n",
       "      <td>173.410560</td>\n",
       "    </tr>\n",
       "    <tr>\n",
       "      <th>4209</th>\n",
       "      <td>7.57</td>\n",
       "      <td>90</td>\n",
       "      <td>1026.1</td>\n",
       "      <td>0.0</td>\n",
       "      <td>0.0</td>\n",
       "      <td>100.0</td>\n",
       "      <td>79</td>\n",
       "      <td>100</td>\n",
       "      <td>100</td>\n",
       "      <td>210.04</td>\n",
       "      <td>...</td>\n",
       "      <td>6.91</td>\n",
       "      <td>13.00</td>\n",
       "      <td>4.76</td>\n",
       "      <td>11.61</td>\n",
       "      <td>7.13</td>\n",
       "      <td>10.44</td>\n",
       "      <td>19.307487</td>\n",
       "      <td>63.895118</td>\n",
       "      <td>182.28247</td>\n",
       "      <td>403.792220</td>\n",
       "    </tr>\n",
       "    <tr>\n",
       "      <th>4210</th>\n",
       "      <td>7.27</td>\n",
       "      <td>90</td>\n",
       "      <td>1026.3</td>\n",
       "      <td>0.1</td>\n",
       "      <td>0.0</td>\n",
       "      <td>100.0</td>\n",
       "      <td>73</td>\n",
       "      <td>100</td>\n",
       "      <td>100</td>\n",
       "      <td>113.92</td>\n",
       "      <td>...</td>\n",
       "      <td>2.29</td>\n",
       "      <td>8.71</td>\n",
       "      <td>352.87</td>\n",
       "      <td>7.95</td>\n",
       "      <td>354.81</td>\n",
       "      <td>22.32</td>\n",
       "      <td>25.249506</td>\n",
       "      <td>65.827032</td>\n",
       "      <td>197.33868</td>\n",
       "      <td>158.367780</td>\n",
       "    </tr>\n",
       "    <tr>\n",
       "      <th>4211</th>\n",
       "      <td>8.25</td>\n",
       "      <td>81</td>\n",
       "      <td>1025.5</td>\n",
       "      <td>0.0</td>\n",
       "      <td>0.0</td>\n",
       "      <td>100.0</td>\n",
       "      <td>74</td>\n",
       "      <td>66</td>\n",
       "      <td>100</td>\n",
       "      <td>186.90</td>\n",
       "      <td>...</td>\n",
       "      <td>11.31</td>\n",
       "      <td>6.29</td>\n",
       "      <td>13.24</td>\n",
       "      <td>5.94</td>\n",
       "      <td>14.04</td>\n",
       "      <td>15.48</td>\n",
       "      <td>36.361161</td>\n",
       "      <td>70.496313</td>\n",
       "      <td>211.30027</td>\n",
       "      <td>126.953060</td>\n",
       "    </tr>\n",
       "    <tr>\n",
       "      <th>4212</th>\n",
       "      <td>8.00</td>\n",
       "      <td>80</td>\n",
       "      <td>1025.3</td>\n",
       "      <td>0.0</td>\n",
       "      <td>0.0</td>\n",
       "      <td>100.0</td>\n",
       "      <td>100</td>\n",
       "      <td>100</td>\n",
       "      <td>100</td>\n",
       "      <td>172.66</td>\n",
       "      <td>...</td>\n",
       "      <td>12.72</td>\n",
       "      <td>12.07</td>\n",
       "      <td>17.35</td>\n",
       "      <td>11.38</td>\n",
       "      <td>18.43</td>\n",
       "      <td>16.20</td>\n",
       "      <td>48.452849</td>\n",
       "      <td>76.919574</td>\n",
       "      <td>223.04931</td>\n",
       "      <td>20.055031</td>\n",
       "    </tr>\n",
       "  </tbody>\n",
       "</table>\n",
       "<p>4213 rows × 21 columns</p>\n",
       "</div>"
      ],
      "text/plain": [
       "      temperature_2_m_above_gnd  relative_humidity_2_m_above_gnd  \\\n",
       "0                          2.17                               31   \n",
       "1                          2.31                               27   \n",
       "2                          3.65                               33   \n",
       "3                          5.82                               30   \n",
       "4                          7.73                               27   \n",
       "...                         ...                              ...   \n",
       "4208                       8.69                               66   \n",
       "4209                       7.57                               90   \n",
       "4210                       7.27                               90   \n",
       "4211                       8.25                               81   \n",
       "4212                       8.00                               80   \n",
       "\n",
       "      mean_sea_level_pressure_MSL  total_precipitation_sfc  \\\n",
       "0                          1035.0                      0.0   \n",
       "1                          1035.1                      0.0   \n",
       "2                          1035.4                      0.0   \n",
       "3                          1035.4                      0.0   \n",
       "4                          1034.4                      0.0   \n",
       "...                           ...                      ...   \n",
       "4208                       1025.1                      0.0   \n",
       "4209                       1026.1                      0.0   \n",
       "4210                       1026.3                      0.1   \n",
       "4211                       1025.5                      0.0   \n",
       "4212                       1025.3                      0.0   \n",
       "\n",
       "      snowfall_amount_sfc  total_cloud_cover_sfc  \\\n",
       "0                     0.0                    0.0   \n",
       "1                     0.0                    0.0   \n",
       "2                     0.0                    0.0   \n",
       "3                     0.0                    0.0   \n",
       "4                     0.0                    0.0   \n",
       "...                   ...                    ...   \n",
       "4208                  0.0                  100.0   \n",
       "4209                  0.0                  100.0   \n",
       "4210                  0.0                  100.0   \n",
       "4211                  0.0                  100.0   \n",
       "4212                  0.0                  100.0   \n",
       "\n",
       "      high_cloud_cover_high_cld_lay  medium_cloud_cover_mid_cld_lay  \\\n",
       "0                                 0                               0   \n",
       "1                                 0                               0   \n",
       "2                                 0                               0   \n",
       "3                                 0                               0   \n",
       "4                                 0                               0   \n",
       "...                             ...                             ...   \n",
       "4208                            100                             100   \n",
       "4209                             79                             100   \n",
       "4210                             73                             100   \n",
       "4211                             74                              66   \n",
       "4212                            100                             100   \n",
       "\n",
       "      low_cloud_cover_low_cld_lay  shortwave_radiation_backwards_sfc  ...  \\\n",
       "0                               0                               0.00  ...   \n",
       "1                               0                               1.78  ...   \n",
       "2                               0                             108.58  ...   \n",
       "3                               0                             258.10  ...   \n",
       "4                               0                             375.58  ...   \n",
       "...                           ...                                ...  ...   \n",
       "4208                          100                             257.21  ...   \n",
       "4209                          100                             210.04  ...   \n",
       "4210                          100                             113.92  ...   \n",
       "4211                          100                             186.90  ...   \n",
       "4212                          100                             172.66  ...   \n",
       "\n",
       "      wind_direction_10_m_above_gnd  wind_speed_80_m_above_gnd  \\\n",
       "0                            312.71                       9.36   \n",
       "1                            294.78                       5.99   \n",
       "2                            270.00                       3.89   \n",
       "3                            323.13                       3.55   \n",
       "4                             10.01                       6.76   \n",
       "...                             ...                        ...   \n",
       "4208                         285.42                      25.50   \n",
       "4209                           6.91                      13.00   \n",
       "4210                           2.29                       8.71   \n",
       "4211                          11.31                       6.29   \n",
       "4212                          12.72                      12.07   \n",
       "\n",
       "      wind_direction_80_m_above_gnd  wind_speed_900_mb  wind_direction_900_mb  \\\n",
       "0                             22.62               6.62                 337.62   \n",
       "1                             32.74               4.61                 321.34   \n",
       "2                             56.31               3.76                 286.70   \n",
       "3                             23.96               3.08                 339.44   \n",
       "4                             25.20               6.62                  22.38   \n",
       "...                             ...                ...                    ...   \n",
       "4208                         283.06              24.01                 282.99   \n",
       "4209                           4.76              11.61                   7.13   \n",
       "4210                         352.87               7.95                 354.81   \n",
       "4211                          13.24               5.94                  14.04   \n",
       "4212                          17.35              11.38                  18.43   \n",
       "\n",
       "      wind_gust_10_m_above_gnd  angle_of_incidence     zenith    azimuth  \\\n",
       "0                        24.48           58.753108  83.237322  128.33543   \n",
       "1                        21.96           45.408585  75.143041  139.65530   \n",
       "2                        14.04           32.848282  68.820648  152.53769   \n",
       "3                        19.80           22.699288  64.883536  166.90159   \n",
       "4                        16.56           19.199908  63.795208  182.13526   \n",
       "...                        ...                 ...        ...        ...   \n",
       "4208                     25.20           22.700907  64.952098  167.06794   \n",
       "4209                     10.44           19.307487  63.895118  182.28247   \n",
       "4210                     22.32           25.249506  65.827032  197.33868   \n",
       "4211                     15.48           36.361161  70.496313  211.30027   \n",
       "4212                     16.20           48.452849  76.919574  223.04931   \n",
       "\n",
       "      generated_power_kw  \n",
       "0             454.100950  \n",
       "1            1411.999400  \n",
       "2            2214.849300  \n",
       "3            2527.609200  \n",
       "4            2640.203400  \n",
       "...                  ...  \n",
       "4208          173.410560  \n",
       "4209          403.792220  \n",
       "4210          158.367780  \n",
       "4211          126.953060  \n",
       "4212           20.055031  \n",
       "\n",
       "[4213 rows x 21 columns]"
      ]
     },
     "execution_count": 24,
     "metadata": {},
     "output_type": "execute_result"
    }
   ],
   "source": [
    "file_path = \"C:/Users/Administrador/Desktop/Rami/Proyecto 5to/Datasets/Kaggle solar panel DS/spg.csv\" \n",
    "data = pd.read_csv(file_path)\n",
    "data"
   ]
  },
  {
   "cell_type": "markdown",
   "metadata": {},
   "source": [
    "Separate features and target "
   ]
  },
  {
   "cell_type": "code",
   "execution_count": 9,
   "metadata": {},
   "outputs": [],
   "source": [
    "X = data.drop(columns=[\"generated_power_kw\"])\n",
    "y = data[\"generated_power_kw\"]"
   ]
  },
  {
   "cell_type": "markdown",
   "metadata": {},
   "source": [
    "Normalize features"
   ]
  },
  {
   "cell_type": "code",
   "execution_count": 10,
   "metadata": {},
   "outputs": [],
   "source": [
    "scaler = StandardScaler()\n",
    "X_normalized = scaler.fit_transform(X)"
   ]
  },
  {
   "cell_type": "markdown",
   "metadata": {},
   "source": [
    "Split the dataset"
   ]
  },
  {
   "cell_type": "code",
   "execution_count": 11,
   "metadata": {},
   "outputs": [],
   "source": [
    "X_train, X_test, y_train, y_test = train_test_split(X_normalized, y, test_size=0.2, random_state=42)"
   ]
  },
  {
   "cell_type": "markdown",
   "metadata": {},
   "source": [
    "Convert data to PyTorch tensors"
   ]
  },
  {
   "cell_type": "code",
   "execution_count": 12,
   "metadata": {},
   "outputs": [],
   "source": [
    "X_train_tensor = torch.tensor(X_train, dtype=torch.float32)\n",
    "y_train_tensor = torch.tensor(y_train.values, dtype=torch.float32).view(-1, 1)\n",
    "X_test_tensor = torch.tensor(X_test, dtype=torch.float32)\n",
    "y_test_tensor = torch.tensor(y_test.values, dtype=torch.float32).view(-1, 1)"
   ]
  },
  {
   "cell_type": "markdown",
   "metadata": {},
   "source": [
    "Create DataLoader"
   ]
  },
  {
   "cell_type": "code",
   "execution_count": 108,
   "metadata": {},
   "outputs": [],
   "source": [
    "batch_size = 64\n",
    "train_dataset = TensorDataset(X_train_tensor, y_train_tensor)\n",
    "test_dataset = TensorDataset(X_test_tensor, y_test_tensor)\n",
    "\n",
    "train_loader = DataLoader(train_dataset, batch_size=batch_size, shuffle=True)\n",
    "test_loader = DataLoader(test_dataset, batch_size=batch_size, shuffle=False)"
   ]
  },
  {
   "cell_type": "markdown",
   "metadata": {},
   "source": [
    "# Starting the model"
   ]
  },
  {
   "cell_type": "markdown",
   "metadata": {},
   "source": [
    "Define the neural network"
   ]
  },
  {
   "cell_type": "code",
   "execution_count": 169,
   "metadata": {},
   "outputs": [],
   "source": [
    "class SolarPowerNN(nn.Module):\n",
    "    def __init__(self, input_dim):\n",
    "        super(SolarPowerNN, self).__init__()\n",
    "        self.fc1 = nn.Linear(input_dim, 4096)\n",
    "        self.fc2 = nn.Linear(4096, 2048)\n",
    "        self.fc3 = nn.Linear(2048, 104)\n",
    "        self.fc4 = nn.Linear(1024, 512)\n",
    "        self.fc5 = nn.Linear(512, 256)\n",
    "        self.fc6 = nn.Linear(256, 128)\n",
    "        self.fc7 = nn.Linear(128, 64)\n",
    "        self.fc8 = nn.Linear(64, 32)\n",
    "        self.fc9 = nn.Linear(32, 1)\n",
    "        self.relu = nn.ReLU()\n",
    "        self.dropout = nn.Dropout(0.3)\n",
    "    \n",
    "    def forward(self, x):\n",
    "        x = self.relu(self.fc1(x))\n",
    "        x = self.relu(self.fc2(x))\n",
    "        x = self.fc3(x)\n",
    "        return x"
   ]
  },
  {
   "cell_type": "markdown",
   "metadata": {},
   "source": [
    "Initialize the model, loss function, and optimizer"
   ]
  },
  {
   "cell_type": "code",
   "execution_count": 225,
   "metadata": {},
   "outputs": [],
   "source": [
    "input_dim = X_train.shape[1]\n",
    "model = SolarPowerNN(input_dim)\n",
    "criterion = nn.MSELoss()\n",
    "optimizer = optim.Adam(model.parameters(), lr=0.001)"
   ]
  },
  {
   "cell_type": "markdown",
   "metadata": {},
   "source": [
    "Training loop"
   ]
  },
  {
   "cell_type": "code",
   "execution_count": 236,
   "metadata": {},
   "outputs": [
    {
     "name": "stderr",
     "output_type": "stream",
     "text": [
      "c:\\Users\\Administrador\\Desktop\\Rami\\Proyecto 5to\\prenv\\Lib\\site-packages\\torch\\nn\\modules\\loss.py:608: UserWarning: Using a target size (torch.Size([64, 1])) that is different to the input size (torch.Size([64, 104])). This will likely lead to incorrect results due to broadcasting. Please ensure they have the same size.\n",
      "  return F.mse_loss(input, target, reduction=self.reduction)\n",
      "c:\\Users\\Administrador\\Desktop\\Rami\\Proyecto 5to\\prenv\\Lib\\site-packages\\torch\\nn\\modules\\loss.py:608: UserWarning: Using a target size (torch.Size([42, 1])) that is different to the input size (torch.Size([42, 104])). This will likely lead to incorrect results due to broadcasting. Please ensure they have the same size.\n",
      "  return F.mse_loss(input, target, reduction=self.reduction)\n"
     ]
    },
    {
     "name": "stdout",
     "output_type": "stream",
     "text": [
      "Epoch [10/125], Loss: 26295.5323\n",
      "Epoch [20/125], Loss: 26266.3016\n",
      "Epoch [30/125], Loss: 26238.9461\n",
      "Epoch [40/125], Loss: 26370.4297\n",
      "Epoch [50/125], Loss: 26293.0243\n",
      "Epoch [60/125], Loss: 26242.5388\n",
      "Epoch [70/125], Loss: 26196.4709\n",
      "Epoch [80/125], Loss: 26216.7890\n",
      "Epoch [90/125], Loss: 26270.2148\n",
      "Epoch [100/125], Loss: 26239.2472\n",
      "Epoch [110/125], Loss: 26248.5228\n",
      "Epoch [120/125], Loss: 26234.0080\n"
     ]
    }
   ],
   "source": [
    "num_epochs = 125\n",
    "scheduler = optim.lr_scheduler.StepLR(optimizer, step_size=10, gamma=0.1)\n",
    "losses = []\n",
    "\n",
    "for epoch in range(num_epochs):\n",
    "    model.train()\n",
    "    epoch_loss = 0.0\n",
    "    for batch_X, batch_y in train_loader:\n",
    "        predictions = model(batch_X)\n",
    "        loss = criterion(predictions, batch_y)\n",
    "        optimizer.zero_grad()\n",
    "        loss.backward()\n",
    "        optimizer.step()\n",
    "        epoch_loss += loss.item()\n",
    "        scheduler.step()\n",
    "    \n",
    "    avg_loss = epoch_loss / len(train_loader)\n",
    "    losses.append(avg_loss)\n",
    "    if (epoch + 1) % 10 == 0:\n",
    "        print(f\"Epoch [{epoch + 1}/{num_epochs}], Loss: {avg_loss:.4f}\")"
   ]
  },
  {
   "cell_type": "markdown",
   "metadata": {},
   "source": [
    "Evaluate the model"
   ]
  },
  {
   "cell_type": "code",
   "execution_count": 246,
   "metadata": {},
   "outputs": [
    {
     "name": "stdout",
     "output_type": "stream",
     "text": [
      "Test RMSE: 393.6073 kW\n",
      "Test Loss: 154926.6987\n"
     ]
    },
    {
     "name": "stderr",
     "output_type": "stream",
     "text": [
      "c:\\Users\\Administrador\\Desktop\\Rami\\Proyecto 5to\\prenv\\Lib\\site-packages\\torch\\nn\\modules\\loss.py:608: UserWarning: Using a target size (torch.Size([64, 1])) that is different to the input size (torch.Size([64, 104])). This will likely lead to incorrect results due to broadcasting. Please ensure they have the same size.\n",
      "  return F.mse_loss(input, target, reduction=self.reduction)\n",
      "c:\\Users\\Administrador\\Desktop\\Rami\\Proyecto 5to\\prenv\\Lib\\site-packages\\torch\\nn\\modules\\loss.py:608: UserWarning: Using a target size (torch.Size([11, 1])) that is different to the input size (torch.Size([11, 104])). This will likely lead to incorrect results due to broadcasting. Please ensure they have the same size.\n",
      "  return F.mse_loss(input, target, reduction=self.reduction)\n"
     ]
    }
   ],
   "source": [
    "model.eval()\n",
    "test_loss = 0.0\n",
    "with torch.no_grad():\n",
    "    for batch_X, batch_y in test_loader:\n",
    "        predictions = model(batch_X)\n",
    "        loss = criterion(predictions, batch_y)\n",
    "        test_loss += loss.item()\n",
    "\n",
    "test_loss /= len(test_loader)\n",
    "rmse = test_loss ** 0.5\n",
    "print(f\"Test RMSE: {rmse:.4f} kW\")\n",
    "print(f\"Test Loss: {test_loss:.4f}\")"
   ]
  },
  {
   "cell_type": "markdown",
   "metadata": {},
   "source": [
    "# Geting Predictions"
   ]
  },
  {
   "cell_type": "code",
   "execution_count": 255,
   "metadata": {},
   "outputs": [],
   "source": [
    "new_data = np.array([\n",
    "    [3.65, 33, 1035.4, 0.0, 0.0, 0.0, 0, 0, 0, 108.58, 0.0, 270.00, 3.89, 56.31, 3.76, 286.70, 14.04, 32.848282, 68.820648, 152.53769]\n",
    "])"
   ]
  },
  {
   "cell_type": "markdown",
   "metadata": {},
   "source": [
    "Ensure the new data has the correct dimensions"
   ]
  },
  {
   "cell_type": "code",
   "execution_count": 256,
   "metadata": {},
   "outputs": [],
   "source": [
    "assert new_data.shape[1] == X_train.shape[1], \"New data must have the same number of features as the training data.\""
   ]
  },
  {
   "cell_type": "markdown",
   "metadata": {},
   "source": [
    "Preprocess the new data using the same scaler"
   ]
  },
  {
   "cell_type": "code",
   "execution_count": 257,
   "metadata": {},
   "outputs": [
    {
     "name": "stderr",
     "output_type": "stream",
     "text": [
      "c:\\Users\\Administrador\\Desktop\\Rami\\Proyecto 5to\\prenv\\Lib\\site-packages\\sklearn\\base.py:493: UserWarning: X does not have valid feature names, but StandardScaler was fitted with feature names\n",
      "  warnings.warn(\n"
     ]
    }
   ],
   "source": [
    "new_data_normalized = scaler.transform(new_data)"
   ]
  },
  {
   "cell_type": "markdown",
   "metadata": {},
   "source": [
    "Convert to PyTorch tensor"
   ]
  },
  {
   "cell_type": "code",
   "execution_count": 258,
   "metadata": {},
   "outputs": [],
   "source": [
    "new_data_tensor = torch.tensor(new_data_normalized, dtype=torch.float32)"
   ]
  },
  {
   "cell_type": "markdown",
   "metadata": {},
   "source": [
    "Set the model to evaluation mode"
   ]
  },
  {
   "cell_type": "code",
   "execution_count": 259,
   "metadata": {},
   "outputs": [
    {
     "data": {
      "text/plain": [
       "SolarPowerNN(\n",
       "  (fc1): Linear(in_features=20, out_features=4096, bias=True)\n",
       "  (fc2): Linear(in_features=4096, out_features=2048, bias=True)\n",
       "  (fc3): Linear(in_features=2048, out_features=104, bias=True)\n",
       "  (fc4): Linear(in_features=1024, out_features=512, bias=True)\n",
       "  (fc5): Linear(in_features=512, out_features=256, bias=True)\n",
       "  (fc6): Linear(in_features=256, out_features=128, bias=True)\n",
       "  (fc7): Linear(in_features=128, out_features=64, bias=True)\n",
       "  (fc8): Linear(in_features=64, out_features=32, bias=True)\n",
       "  (fc9): Linear(in_features=32, out_features=1, bias=True)\n",
       "  (relu): ReLU()\n",
       "  (dropout): Dropout(p=0.3, inplace=False)\n",
       ")"
      ]
     },
     "execution_count": 259,
     "metadata": {},
     "output_type": "execute_result"
    }
   ],
   "source": [
    "model.eval()"
   ]
  },
  {
   "cell_type": "markdown",
   "metadata": {},
   "source": [
    "Make predictions"
   ]
  },
  {
   "cell_type": "code",
   "execution_count": 260,
   "metadata": {},
   "outputs": [],
   "source": [
    "with torch.no_grad():\n",
    "    new_predictions = model(new_data_tensor)"
   ]
  },
  {
   "cell_type": "markdown",
   "metadata": {},
   "source": [
    "Convert predictions to a readable format"
   ]
  },
  {
   "cell_type": "code",
   "execution_count": 261,
   "metadata": {},
   "outputs": [],
   "source": [
    "new_predictions_np = new_predictions.numpy()"
   ]
  },
  {
   "cell_type": "markdown",
   "metadata": {},
   "source": [
    "Display the predictions"
   ]
  },
  {
   "cell_type": "code",
   "execution_count": 262,
   "metadata": {},
   "outputs": [
    {
     "name": "stdout",
     "output_type": "stream",
     "text": [
      "Predicted Power (kW): 2396.2058\n"
     ]
    }
   ],
   "source": [
    "predicted_power = new_predictions_np.flatten()\n",
    "print(\"Predicted Power (kW):\", new_predictions_np.flatten()[0])"
   ]
  }
 ],
 "metadata": {
  "kernelspec": {
   "display_name": "prenv",
   "language": "python",
   "name": "python3"
  },
  "language_info": {
   "codemirror_mode": {
    "name": "ipython",
    "version": 3
   },
   "file_extension": ".py",
   "mimetype": "text/x-python",
   "name": "python",
   "nbconvert_exporter": "python",
   "pygments_lexer": "ipython3",
   "version": "3.11.5"
  }
 },
 "nbformat": 4,
 "nbformat_minor": 2
}
